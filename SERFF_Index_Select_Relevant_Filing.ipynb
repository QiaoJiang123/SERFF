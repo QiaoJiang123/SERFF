{
 "cells": [
  {
   "cell_type": "code",
   "execution_count": 9,
   "id": "115986b2-1fa7-4828-8d45-1665784b18f5",
   "metadata": {
    "tags": []
   },
   "outputs": [],
   "source": [
    "import pandas as pd\n",
    "import matplotlib.pyplot as plt"
   ]
  },
  {
   "cell_type": "code",
   "execution_count": 10,
   "id": "a320c5ab-c860-445c-8a0a-b7e299895716",
   "metadata": {
    "tags": []
   },
   "outputs": [],
   "source": [
    "master_index_all_states_df = pd.read_csv('/Users/Documents/Research/SERFF/master_index_all_states.csv')"
   ]
  },
  {
   "cell_type": "code",
   "execution_count": 11,
   "id": "47f51d67-e7d1-4cce-a08e-b83342343214",
   "metadata": {
    "tags": []
   },
   "outputs": [
    {
     "data": {
      "text/html": [
       "<div>\n",
       "<style scoped>\n",
       "    .dataframe tbody tr th:only-of-type {\n",
       "        vertical-align: middle;\n",
       "    }\n",
       "\n",
       "    .dataframe tbody tr th {\n",
       "        vertical-align: top;\n",
       "    }\n",
       "\n",
       "    .dataframe thead th {\n",
       "        text-align: right;\n",
       "    }\n",
       "</style>\n",
       "<table border=\"1\" class=\"dataframe\">\n",
       "  <thead>\n",
       "    <tr style=\"text-align: right;\">\n",
       "      <th></th>\n",
       "      <th>Company Name</th>\n",
       "      <th>NAIC Company Code</th>\n",
       "      <th>Insurance Product Name</th>\n",
       "      <th>Sub Type of Insurance</th>\n",
       "      <th>Filing Type</th>\n",
       "      <th>Filing Status</th>\n",
       "      <th>SERFF Tracking Number</th>\n",
       "      <th>State</th>\n",
       "    </tr>\n",
       "  </thead>\n",
       "  <tbody>\n",
       "    <tr>\n",
       "      <th>0</th>\n",
       "      <td>XL Specialty Insurance Company</td>\n",
       "      <td>37885.0</td>\n",
       "      <td>Excess Workers Compensation</td>\n",
       "      <td>16.0003 Excess WC</td>\n",
       "      <td>Form</td>\n",
       "      <td>Closed - Approved</td>\n",
       "      <td>XLAM-129754727</td>\n",
       "      <td>VT</td>\n",
       "    </tr>\n",
       "    <tr>\n",
       "      <th>1</th>\n",
       "      <td>XL Specialty Insurance Company</td>\n",
       "      <td>37885.0</td>\n",
       "      <td>Excess Workers Compensation</td>\n",
       "      <td>16.0003 Excess WC</td>\n",
       "      <td>Form</td>\n",
       "      <td>Closed - Approved</td>\n",
       "      <td>XLAM-132249557</td>\n",
       "      <td>VT</td>\n",
       "    </tr>\n",
       "    <tr>\n",
       "      <th>2</th>\n",
       "      <td>XL Specialty Insurance Company</td>\n",
       "      <td>37885.0</td>\n",
       "      <td>Excess Workers Compensation</td>\n",
       "      <td>16.0003 Excess WC</td>\n",
       "      <td>Form</td>\n",
       "      <td>Closed - Approved</td>\n",
       "      <td>XLAM-129498898</td>\n",
       "      <td>VT</td>\n",
       "    </tr>\n",
       "    <tr>\n",
       "      <th>3</th>\n",
       "      <td>XL Specialty Insurance Company</td>\n",
       "      <td>37885.0</td>\n",
       "      <td>Fetch Pet Health Insurance Program 2023 Revisi...</td>\n",
       "      <td>09.0004 Pet Insurance Plans</td>\n",
       "      <td>Form/Rate/Rule</td>\n",
       "      <td>Closed - Approved</td>\n",
       "      <td>XLAM-133698612</td>\n",
       "      <td>VT</td>\n",
       "    </tr>\n",
       "    <tr>\n",
       "      <th>4</th>\n",
       "      <td>XL Specialty Insurance Company</td>\n",
       "      <td>37885.0</td>\n",
       "      <td>Fetch Pet Health Insurance Program 2023 Revisi...</td>\n",
       "      <td>09.0004 Pet Insurance Plans</td>\n",
       "      <td>Rate/Rule</td>\n",
       "      <td>Closed - Rate/Rule-P&amp;C Use and File</td>\n",
       "      <td>XLAM-133863357</td>\n",
       "      <td>VT</td>\n",
       "    </tr>\n",
       "  </tbody>\n",
       "</table>\n",
       "</div>"
      ],
      "text/plain": [
       "                     Company Name  NAIC Company Code  \\\n",
       "0  XL Specialty Insurance Company            37885.0   \n",
       "1  XL Specialty Insurance Company            37885.0   \n",
       "2  XL Specialty Insurance Company            37885.0   \n",
       "3  XL Specialty Insurance Company            37885.0   \n",
       "4  XL Specialty Insurance Company            37885.0   \n",
       "\n",
       "                              Insurance Product Name  \\\n",
       "0                        Excess Workers Compensation   \n",
       "1                        Excess Workers Compensation   \n",
       "2                        Excess Workers Compensation   \n",
       "3  Fetch Pet Health Insurance Program 2023 Revisi...   \n",
       "4  Fetch Pet Health Insurance Program 2023 Revisi...   \n",
       "\n",
       "         Sub Type of Insurance     Filing Type  \\\n",
       "0            16.0003 Excess WC            Form   \n",
       "1            16.0003 Excess WC            Form   \n",
       "2            16.0003 Excess WC            Form   \n",
       "3  09.0004 Pet Insurance Plans  Form/Rate/Rule   \n",
       "4  09.0004 Pet Insurance Plans       Rate/Rule   \n",
       "\n",
       "                         Filing Status SERFF Tracking Number State  \n",
       "0                    Closed - Approved        XLAM-129754727    VT  \n",
       "1                    Closed - Approved        XLAM-132249557    VT  \n",
       "2                    Closed - Approved        XLAM-129498898    VT  \n",
       "3                    Closed - Approved        XLAM-133698612    VT  \n",
       "4  Closed - Rate/Rule-P&C Use and File        XLAM-133863357    VT  "
      ]
     },
     "execution_count": 11,
     "metadata": {},
     "output_type": "execute_result"
    }
   ],
   "source": [
    "master_index_all_states_df.head(5)"
   ]
  },
  {
   "cell_type": "markdown",
   "id": "dba5a0f4-baf8-426a-a2a0-dce7411f1874",
   "metadata": {},
   "source": [
    "# Feature Transformation"
   ]
  },
  {
   "cell_type": "markdown",
   "id": "36f41657-6924-45b5-9bd3-63f9bbbfbb00",
   "metadata": {},
   "source": [
    "## Construct Filing Type Indicator"
   ]
  },
  {
   "cell_type": "markdown",
   "id": "23107462-6f1b-4d6b-827f-a2dd17e5f148",
   "metadata": {},
   "source": [
    "### Check Model Related Filing Type"
   ]
  },
  {
   "cell_type": "code",
   "execution_count": 17,
   "id": "38bfbd4b-c937-4305-882a-ff2e1f7c3128",
   "metadata": {
    "tags": []
   },
   "outputs": [],
   "source": [
    "contains_model = master_index_all_states_df[['Filing Type']].applymap(lambda x: 'model' in str(x).lower())\n",
    "\n",
    "# Sum the boolean DataFrame to count True values (i.e., where 'model' appears)\n",
    "row_count_with_model = contains_model.any(axis=1).sum()"
   ]
  },
  {
   "cell_type": "code",
   "execution_count": 18,
   "id": "dbedee12-baea-4ecf-93db-1ef1c87be0c4",
   "metadata": {
    "tags": []
   },
   "outputs": [
    {
     "data": {
      "text/plain": [
       "815"
      ]
     },
     "execution_count": 18,
     "metadata": {},
     "output_type": "execute_result"
    }
   ],
   "source": [
    "row_count_with_model # only 815 filings contain the word model"
   ]
  },
  {
   "cell_type": "code",
   "execution_count": 19,
   "id": "43c401bd-1462-4199-8d74-422ce6080048",
   "metadata": {
    "tags": []
   },
   "outputs": [],
   "source": [
    "master_index_all_states_df['Filing Type - Form'] = ['Y' if 'form' in str(x).lower() else 'N' for x in master_index_all_states_df['Filing Type']]"
   ]
  },
  {
   "cell_type": "code",
   "execution_count": 20,
   "id": "acf9cf42-7f82-4b8e-9c4e-0e235f979207",
   "metadata": {
    "tags": []
   },
   "outputs": [],
   "source": [
    "rate_related_keywords = ['rate','loss cost','lcm','rating','model']\n"
   ]
  },
  {
   "cell_type": "code",
   "execution_count": 21,
   "id": "52773642-56a7-42a8-9d9d-108c892e5da7",
   "metadata": {
    "tags": []
   },
   "outputs": [],
   "source": [
    "master_index_all_states_df['Filing Type - Rate'] = ['Y' if any([y in str(x).lower() for y in rate_related_keywords]) else 'N' for x in master_index_all_states_df['Filing Type']]\n"
   ]
  },
  {
   "cell_type": "code",
   "execution_count": 22,
   "id": "9b53afc0-7a97-4993-bf22-647c99ba313b",
   "metadata": {
    "tags": []
   },
   "outputs": [
    {
     "data": {
      "text/plain": [
       "(1073306, 10)"
      ]
     },
     "execution_count": 22,
     "metadata": {},
     "output_type": "execute_result"
    }
   ],
   "source": [
    "master_index_all_states_df[master_index_all_states_df['Filing Type - Rate']=='Y'].shape"
   ]
  },
  {
   "cell_type": "code",
   "execution_count": 23,
   "id": "4b5741d7-bd99-4e0a-9b16-1bb1ed0eb16b",
   "metadata": {
    "tags": []
   },
   "outputs": [
    {
     "data": {
      "text/plain": [
       "(1915313, 10)"
      ]
     },
     "execution_count": 23,
     "metadata": {},
     "output_type": "execute_result"
    }
   ],
   "source": [
    "master_index_all_states_df[master_index_all_states_df['Filing Type - Form']=='Y'].shape\n"
   ]
  },
  {
   "cell_type": "markdown",
   "id": "5e3a7d1c-d73c-46f7-97fa-bea5e2389f38",
   "metadata": {},
   "source": [
    "## Type of Insurance"
   ]
  },
  {
   "cell_type": "markdown",
   "id": "38fc31ab-6778-410a-a3f9-1eac061bcd89",
   "metadata": {},
   "source": [
    "### Select Auto"
   ]
  },
  {
   "cell_type": "code",
   "execution_count": 24,
   "id": "49a7303f-9edc-4a54-b971-38dd8b2fb5cf",
   "metadata": {
    "tags": []
   },
   "outputs": [],
   "source": [
    "master_index_all_states_df['Type of Insurance'] = [str(x)[:4] for x in master_index_all_states_df['Sub Type of Insurance']]\n"
   ]
  },
  {
   "cell_type": "code",
   "execution_count": 25,
   "id": "9d79cf67-4fcc-4c89-a871-f28a4c88dc7c",
   "metadata": {
    "tags": []
   },
   "outputs": [],
   "source": [
    "def can_convert_to_float(s):\n",
    "    try:\n",
    "        float(s)  # Try converting the string to float\n",
    "        return True\n",
    "    except ValueError:  # Catch the exception if conversion fails\n",
    "        return False"
   ]
  },
  {
   "cell_type": "code",
   "execution_count": 26,
   "id": "fecb7528-136d-4c11-b819-2d218a9d94eb",
   "metadata": {
    "tags": []
   },
   "outputs": [],
   "source": [
    "master_index_all_states_df['Type of Insurance - Indicator'] = [can_convert_to_float(x) for x in master_index_all_states_df['Type of Insurance']]\n"
   ]
  },
  {
   "cell_type": "code",
   "execution_count": 28,
   "id": "c0cf3d3b-3d04-4a76-bf22-9c95a5c4b707",
   "metadata": {
    "tags": []
   },
   "outputs": [
    {
     "data": {
      "text/plain": [
       "0.9620996993325793"
      ]
     },
     "execution_count": 28,
     "metadata": {},
     "output_type": "execute_result"
    }
   ],
   "source": [
    "master_index_all_states_df['Type of Insurance - Indicator'].sum()/master_index_all_states_df.shape[0]"
   ]
  },
  {
   "cell_type": "code",
   "execution_count": 38,
   "id": "c677a696-6701-4d8f-bc60-3e984befcd01",
   "metadata": {
    "tags": []
   },
   "outputs": [],
   "source": [
    "def identify_personal_auto_filing(type_of_insurance):\n",
    "    type_of_insurance = str(type_of_insurance).lower()\n",
    "    if '19.0' in type_of_insurance:\n",
    "        return 'Y'\n",
    "    elif 'auto' in type_of_insurance and 'personal' in type_of_insurance:\n",
    "        return 'Y'\n",
    "    elif 'auto' in type_of_insurance and 'private' in type_of_insurance:\n",
    "        return 'Y'\n",
    "    else:\n",
    "        return 'N'"
   ]
  },
  {
   "cell_type": "code",
   "execution_count": 39,
   "id": "90749478-3d37-4fbf-a988-9b19d7c6c20b",
   "metadata": {
    "tags": []
   },
   "outputs": [],
   "source": [
    "master_index_all_states_df['Type of Insurance - Auto'] = [identify_personal_auto_filing(x) for x in master_index_all_states_df['Type of Insurance']]"
   ]
  },
  {
   "cell_type": "code",
   "execution_count": 40,
   "id": "ad7cd3df-c93e-473c-9640-bbda70d56743",
   "metadata": {
    "tags": []
   },
   "outputs": [
    {
     "data": {
      "text/plain": [
       "(258244, 13)"
      ]
     },
     "execution_count": 40,
     "metadata": {},
     "output_type": "execute_result"
    }
   ],
   "source": [
    "master_index_all_states_df[master_index_all_states_df['Type of Insurance - Auto']=='Y'].shape # 258244"
   ]
  },
  {
   "cell_type": "code",
   "execution_count": 41,
   "id": "059d1b9d-de3a-4f82-a93b-170bd44d683c",
   "metadata": {
    "tags": []
   },
   "outputs": [
    {
     "data": {
      "text/plain": [
       "48"
      ]
     },
     "execution_count": 41,
     "metadata": {},
     "output_type": "execute_result"
    }
   ],
   "source": [
    "master_index_all_states_df[master_index_all_states_df['Type of Insurance - Auto']=='Y']['State'].nunique()"
   ]
  },
  {
   "cell_type": "markdown",
   "id": "beb175d4-5e1a-46fd-a55b-bcbbd98cc2cd",
   "metadata": {},
   "source": [
    "# State Selection"
   ]
  },
  {
   "cell_type": "code",
   "execution_count": 7,
   "id": "b7e0297c-6879-4014-a768-e2024c269530",
   "metadata": {
    "tags": []
   },
   "outputs": [
    {
     "name": "stdout",
     "output_type": "stream",
     "text": [
      "WI    115707\n",
      "MD    111478\n",
      "GA    111045\n",
      "OK    109999\n",
      "MO    103448\n",
      "PA    100622\n",
      "IL     95542\n",
      "CT     95034\n",
      "NC     90834\n",
      "IN     84536\n",
      "Name: State, dtype: int64\n"
     ]
    }
   ],
   "source": [
    "# Identify the states with the most number of filings\n",
    "state_counts = master_index_all_states_df['State'].value_counts()\n",
    "\n",
    "# Get the top 5 states with the most rows\n",
    "top_5_states = state_counts.head(10)\n",
    "\n",
    "# Display the result\n",
    "print(top_5_states)"
   ]
  },
  {
   "cell_type": "code",
   "execution_count": 8,
   "id": "35c608fb-22a2-4079-8df1-3b49f2d09f27",
   "metadata": {
    "tags": []
   },
   "outputs": [
    {
     "name": "stdout",
     "output_type": "stream",
     "text": [
      "State\n",
      "GA    1202\n",
      "MO    1109\n",
      "PA    1059\n",
      "IN    1017\n",
      "TN     991\n",
      "OK     986\n",
      "NM     981\n",
      "IL     978\n",
      "MD     969\n",
      "WI     963\n",
      "Name: NAIC Company Code, dtype: int64\n"
     ]
    }
   ],
   "source": [
    "state_naic_counts = master_index_all_states_df.groupby(['State'])['NAIC Company Code'].nunique()\n",
    "\n",
    "# Summarize to get the total number of unique companies per state\n",
    "state_company_counts = state_naic_counts.groupby(level='State').sum()\n",
    "\n",
    "# Sort the counts in descending order and get the top states\n",
    "top_states_by_companies = state_company_counts.sort_values(ascending=False).head(10)\n",
    "\n",
    "# Display the results\n",
    "print(top_states_by_companies)"
   ]
  },
  {
   "cell_type": "markdown",
   "id": "5b0d1090-bd1c-4d5b-96fb-4fe0bdb5b0b3",
   "metadata": {},
   "source": [
    "# Select PA, Auto and Rate"
   ]
  },
  {
   "cell_type": "code",
   "execution_count": 42,
   "id": "2e2bd590-b30a-4794-96de-78e74b7219db",
   "metadata": {
    "tags": []
   },
   "outputs": [],
   "source": [
    "index_PA_Auto_Rate_df = master_index_all_states_df[(master_index_all_states_df['State']=='PA')&\n",
    "                                                (master_index_all_states_df['Type of Insurance - Auto']=='Y')&\n",
    "                                                (master_index_all_states_df['Filing Type - Rate']=='Y')]"
   ]
  },
  {
   "cell_type": "code",
   "execution_count": 43,
   "id": "fb7225da-e1ab-4ce0-b002-77362b77bd2c",
   "metadata": {
    "tags": []
   },
   "outputs": [],
   "source": [
    "index_PA_Auto_Rate_df.to_csv('/Users/qiaojiang/Documents/Research/SERFF/index_PA_Auto_Rate_df.csv', index = False)"
   ]
  },
  {
   "cell_type": "code",
   "execution_count": 44,
   "id": "f60fc12c-471a-43df-a150-cfcaf6bf27da",
   "metadata": {
    "tags": []
   },
   "outputs": [
    {
     "data": {
      "text/plain": [
       "(4326, 13)"
      ]
     },
     "execution_count": 44,
     "metadata": {},
     "output_type": "execute_result"
    }
   ],
   "source": [
    "index_PA_Auto_Rate_df.shape"
   ]
  },
  {
   "cell_type": "markdown",
   "id": "9a56f906-eb0c-4df9-bd17-84b1ae1ac695",
   "metadata": {},
   "source": [
    "# Select PA, Auto and Form"
   ]
  },
  {
   "cell_type": "code",
   "execution_count": 45,
   "id": "08b56201-b88e-4ecf-ba0d-3a7bea42742d",
   "metadata": {
    "tags": []
   },
   "outputs": [],
   "source": [
    "index_PA_Auto_Form_df = master_index_all_states_df[(master_index_all_states_df['State']=='PA')&\n",
    "                                                (master_index_all_states_df['Type of Insurance - Auto']=='Y')&\n",
    "                                                (master_index_all_states_df['Filing Type - Form']=='Y')]"
   ]
  },
  {
   "cell_type": "code",
   "execution_count": 46,
   "id": "dd7c9642-c3e3-4e5a-aa9e-bac68d997a7d",
   "metadata": {
    "tags": []
   },
   "outputs": [],
   "source": [
    "index_PA_Auto_Form_df.to_csv('/Users/Documents/Research/SERFF/index_PA_Auto_Form_df.csv', index = False)"
   ]
  },
  {
   "cell_type": "code",
   "execution_count": 47,
   "id": "e2032fc5-147e-4124-937b-6a5caa11c078",
   "metadata": {
    "tags": []
   },
   "outputs": [
    {
     "data": {
      "text/plain": [
       "(3083, 13)"
      ]
     },
     "execution_count": 47,
     "metadata": {},
     "output_type": "execute_result"
    }
   ],
   "source": [
    "index_PA_Auto_Form_df.shape"
   ]
  }
 ],
 "metadata": {
  "kernelspec": {
   "display_name": "Python 3 (ipykernel)",
   "language": "python",
   "name": "python3"
  },
  "language_info": {
   "codemirror_mode": {
    "name": "ipython",
    "version": 3
   },
   "file_extension": ".py",
   "mimetype": "text/x-python",
   "name": "python",
   "nbconvert_exporter": "python",
   "pygments_lexer": "ipython3",
   "version": "3.11.3"
  }
 },
 "nbformat": 4,
 "nbformat_minor": 5
}
