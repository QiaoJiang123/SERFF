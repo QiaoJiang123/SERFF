{
 "cells": [
  {
   "cell_type": "code",
   "execution_count": 97,
   "id": "59c7f9c0-1154-4b12-a262-ebe2090b5e52",
   "metadata": {},
   "outputs": [],
   "source": [
    "from selenium import webdriver\n",
    "from selenium.webdriver.chrome.service import Service\n",
    "from bs4 import BeautifulSoup\n",
    "import sys\n",
    "import pandas as pd\n",
    "import os\n",
    "from selenium.webdriver.common.by import By\n",
    "from selenium.webdriver.common.keys import Keys\n",
    "from selenium.webdriver.support.ui import WebDriverWait\n",
    "from selenium.webdriver.support import expected_conditions as EC\n",
    "import glob\n",
    "import time\n",
    "from selenium.webdriver.chrome.options import Options"
   ]
  },
  {
   "cell_type": "code",
   "execution_count": 98,
   "id": "15de654a-9b33-4909-a6d7-3cd88d3c9feb",
   "metadata": {
    "tags": []
   },
   "outputs": [],
   "source": [
    "index_PA_Auto_Rate_df = pd.read_csv('/Users/Documents/Research/SERFF/index_PA_Auto_Rate_df.csv')"
   ]
  },
  {
   "cell_type": "code",
   "execution_count": 99,
   "id": "673fc53c-76eb-4e0f-af2d-81cfaaa9e5be",
   "metadata": {
    "tags": []
   },
   "outputs": [],
   "source": [
    "index_PA_Auto_Form_df = pd.read_csv('/Users/Documents/Research/SERFF/index_PA_Auto_Form_df.csv')"
   ]
  },
  {
   "cell_type": "code",
   "execution_count": 100,
   "id": "de2ea5b1-724c-495a-adc9-4c77db8e5791",
   "metadata": {
    "tags": []
   },
   "outputs": [],
   "source": [
    "SERFF_Tracking_Number = index_PA_Auto_Rate_df.loc[0,'SERFF Tracking Number']"
   ]
  },
  {
   "cell_type": "code",
   "execution_count": 101,
   "id": "170dc80c-1158-48c4-b84c-f1190460f32b",
   "metadata": {
    "tags": []
   },
   "outputs": [
    {
     "data": {
      "text/plain": [
       "'AMMA-131208912'"
      ]
     },
     "execution_count": 101,
     "metadata": {},
     "output_type": "execute_result"
    }
   ],
   "source": [
    "SERFF_Tracking_Number"
   ]
  },
  {
   "cell_type": "code",
   "execution_count": 102,
   "id": "03214f25-3558-4161-b1e2-73570424b69f",
   "metadata": {
    "tags": []
   },
   "outputs": [],
   "source": [
    "download_directory = f'/Users/Documents/Research/SERFF/Zip_File/{state}'\n",
    "\n",
    "# Create the download directory if it does not exist\n",
    "import os\n",
    "if not os.path.exists(download_directory):\n",
    "    os.makedirs(download_directory)\n",
    "\n",
    "# Configure Chrome options\n",
    "chrome_options = Options()\n",
    "chrome_options.add_experimental_option(\"prefs\", {\n",
    "    \"download.default_directory\": download_directory,  # Set default directory for downloads\n",
    "    \"download.prompt_for_download\": False,  # Disable prompt for download\n",
    "    \"download.directory_upgrade\": True,  # Enable directory upgrade\n",
    "    \"plugins.always_open_pdf_externally\": True  # It automatically downloads PDFs\n",
    "})\n"
   ]
  },
  {
   "cell_type": "code",
   "execution_count": 103,
   "id": "243bbb42-00b8-42d6-8d28-693c2609d3ba",
   "metadata": {
    "tags": []
   },
   "outputs": [],
   "source": [
    "s = Service('/Users/Documents/chromedriver-mac-arm64/chromedriver')"
   ]
  },
  {
   "cell_type": "code",
   "execution_count": 83,
   "id": "a21a8e97-54dd-406a-a9dc-10e358c6b528",
   "metadata": {
    "tags": []
   },
   "outputs": [],
   "source": [
    "state = 'VT'"
   ]
  },
  {
   "cell_type": "code",
   "execution_count": 84,
   "id": "76a9f21e-a892-4e35-868a-c72ebc3919fa",
   "metadata": {
    "tags": []
   },
   "outputs": [],
   "source": [
    "session_start_url = 'https://filingaccess.serff.com/sfa/home/'+state"
   ]
  },
  {
   "cell_type": "code",
   "execution_count": 85,
   "id": "3ff2860c-34e2-4d16-b86e-ad503741f16a",
   "metadata": {
    "tags": []
   },
   "outputs": [],
   "source": [
    "driver = webdriver.Chrome(service=s, options=chrome_options)\n",
    "\n",
    "# Open a webpage\n",
    "driver.get(session_start_url)"
   ]
  },
  {
   "cell_type": "code",
   "execution_count": 86,
   "id": "d69a3882-0126-447d-8617-c3202f270779",
   "metadata": {
    "tags": []
   },
   "outputs": [],
   "source": [
    "# XPath of the button to be clicked\n",
    "button_xpath = '//*[@id=\"bodyContentWrapper\"]/div/a'  # Replace '//*[@id=\"button-id\"]' with the actual XPath of the button\n",
    "\n",
    "# Find the button and click it\n",
    "button = driver.find_element(By.XPATH, button_xpath)\n",
    "button.click()"
   ]
  },
  {
   "cell_type": "code",
   "execution_count": 87,
   "id": "3c606577-57dd-4010-878d-79583c8d2e08",
   "metadata": {
    "tags": []
   },
   "outputs": [],
   "source": [
    "accept_button_xpath = '//*[@id=\"j_idt18:j_idt20\"]'\n",
    "# Find the \"Accept\" button and click it\n",
    "accept_button = driver.find_element(By.XPATH, accept_button_xpath)\n",
    "accept_button.click()"
   ]
  },
  {
   "cell_type": "code",
   "execution_count": 88,
   "id": "5190dee2-ce41-48b2-bfc0-2e606e40c01d",
   "metadata": {
    "tags": []
   },
   "outputs": [],
   "source": [
    "url = 'https://filingaccess.serff.com/sfa/search/filingSummary.xhtml?filingId='+SERFF_Tracking_Number.split('-')[-1]"
   ]
  },
  {
   "cell_type": "code",
   "execution_count": 89,
   "id": "ad3b9d30-61dc-451c-973c-70b18f3be9b0",
   "metadata": {
    "tags": []
   },
   "outputs": [
    {
     "data": {
      "text/plain": [
       "'https://filingaccess.serff.com/sfa/search/filingSummary.xhtml?filingId=129754727'"
      ]
     },
     "execution_count": 89,
     "metadata": {},
     "output_type": "execute_result"
    }
   ],
   "source": [
    "url"
   ]
  },
  {
   "cell_type": "code",
   "execution_count": 90,
   "id": "14a674ce-8bee-45f8-9383-feb931d21e3a",
   "metadata": {
    "tags": []
   },
   "outputs": [],
   "source": [
    "# driver = webdriver.Chrome(service=s)\n",
    "driver.get(url)"
   ]
  },
  {
   "cell_type": "code",
   "execution_count": 91,
   "id": "974cbe06-3e68-46ad-8149-43541e17b248",
   "metadata": {
    "tags": []
   },
   "outputs": [],
   "source": [
    "def check_Filing_Summary_directory(state):\n",
    "    base_path = '/Users/Documents/Research/SERFF/Filing_Summary'\n",
    "\n",
    "    # Combine the base path with the state directory\n",
    "    state_directory = os.path.join(base_path, state)\n",
    "\n",
    "    # Check if the directory exists\n",
    "    if not os.path.exists(state_directory):\n",
    "        # If the directory does not exist, create it\n",
    "        os.makedirs(state_directory)\n",
    "        print(f\"Directory created: {state_directory}\")\n",
    "    else:\n",
    "        # If the directory exists, print a confirmation message\n",
    "        print(f\"Directory already exists: {state_directory}\")"
   ]
  },
  {
   "cell_type": "code",
   "execution_count": 92,
   "id": "f33778e9-d039-4892-ac89-e1e280e3563a",
   "metadata": {
    "tags": []
   },
   "outputs": [],
   "source": [
    "def check_Zip_File_directory(state):\n",
    "    base_path = '/Users/Documents/Research/SERFF/Zip_File'\n",
    "\n",
    "    # Combine the base path with the state directory\n",
    "    state_directory = os.path.join(base_path, state)\n",
    "\n",
    "    # Check if the directory exists\n",
    "    if not os.path.exists(state_directory):\n",
    "        # If the directory does not exist, create it\n",
    "        os.makedirs(state_directory)\n",
    "        print(f\"Directory created: {state_directory}\")\n",
    "    else:\n",
    "        # If the directory exists, print a confirmation message\n",
    "        print(f\"Directory already exists: {state_directory}\")"
   ]
  },
  {
   "cell_type": "code",
   "execution_count": 93,
   "id": "97b15e9b-4a99-45c6-89a4-82b985dcddca",
   "metadata": {
    "tags": []
   },
   "outputs": [],
   "source": [
    "# Function to check all required texts\n",
    "def check_required_texts(driver,SERFF_Tracking_Number):\n",
    "    required_texts = ['Filing Summary', 'Filing Outcome', 'Download Zip File', SERFF_Tracking_Number]\n",
    "    page_source = driver.page_source\n",
    "    return all(text in page_source for text in required_texts)"
   ]
  },
  {
   "cell_type": "code",
   "execution_count": null,
   "id": "3d3b0d42-386a-44b0-8f3f-74b84db5f7b8",
   "metadata": {
    "tags": []
   },
   "outputs": [],
   "source": [
    "WebDriverWait(driver, 30).until(check_required_texts(driver = driver, SERFF_Tracking_Number = SERFF_Tracking_Number))"
   ]
  },
  {
   "cell_type": "code",
   "execution_count": 67,
   "id": "d9e69aaa-76f2-4921-8d1f-ce3ab1dc7c64",
   "metadata": {
    "tags": []
   },
   "outputs": [],
   "source": [
    "with open('/Users/Documents/Research/SERFF/Filing_Summary/'+state+'/'+SERFF_Tracking_Number+'.html', 'w', encoding='utf-8') as file:\n",
    "    file.write(driver.page_source)"
   ]
  },
  {
   "cell_type": "code",
   "execution_count": 69,
   "id": "22e8b746-45e9-47d1-b644-a03d43ea70ad",
   "metadata": {
    "tags": []
   },
   "outputs": [
    {
     "name": "stdout",
     "output_type": "stream",
     "text": [
      "Download Zip File button has been clicked.\n"
     ]
    }
   ],
   "source": [
    "download_zip_button = WebDriverWait(driver, 10).until(\n",
    "        EC.element_to_be_clickable((By.ID, \"summaryForm:downloadLink\"))\n",
    ")\n",
    "download_zip_button.click()\n",
    "print(\"Download Zip File button has been clicked.\")"
   ]
  },
  {
   "cell_type": "code",
   "execution_count": null,
   "id": "529e7212-5600-4f6e-b0ca-50a518be4aec",
   "metadata": {},
   "outputs": [],
   "source": []
  },
  {
   "cell_type": "code",
   "execution_count": null,
   "id": "572ce06f-2eaf-4112-b6d2-33606475d21d",
   "metadata": {},
   "outputs": [],
   "source": []
  },
  {
   "cell_type": "code",
   "execution_count": null,
   "id": "e98cfbf9-eeee-4829-bf0d-b689035dbb4f",
   "metadata": {},
   "outputs": [],
   "source": []
  }
 ],
 "metadata": {
  "kernelspec": {
   "display_name": "Python 3 (ipykernel)",
   "language": "python",
   "name": "python3"
  },
  "language_info": {
   "codemirror_mode": {
    "name": "ipython",
    "version": 3
   },
   "file_extension": ".py",
   "mimetype": "text/x-python",
   "name": "python",
   "nbconvert_exporter": "python",
   "pygments_lexer": "ipython3",
   "version": "3.11.3"
  }
 },
 "nbformat": 4,
 "nbformat_minor": 5
}
