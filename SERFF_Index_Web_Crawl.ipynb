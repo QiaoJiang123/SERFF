{
 "cells": [
  {
   "cell_type": "markdown",
   "id": "60b57b79-b6ef-48ee-9779-faf7cf720352",
   "metadata": {},
   "source": [
    "# Install Modules"
   ]
  },
  {
   "cell_type": "code",
   "execution_count": null,
   "id": "8b08c9c2-713d-46f2-969b-361358f4d689",
   "metadata": {
    "tags": []
   },
   "outputs": [],
   "source": [
    "# !{sys.executable} -m pip install selenium"
   ]
  },
  {
   "cell_type": "markdown",
   "id": "c9f1a2f5-dd88-40fb-9b7c-da8fe8737c90",
   "metadata": {},
   "source": [
    "# Load Modules"
   ]
  },
  {
   "cell_type": "code",
   "execution_count": 23,
   "id": "59c7f9c0-1154-4b12-a262-ebe2090b5e52",
   "metadata": {},
   "outputs": [],
   "source": [
    "from selenium import webdriver\n",
    "from selenium.webdriver.chrome.service import Service\n",
    "from bs4 import BeautifulSoup\n",
    "import sys\n",
    "import pandas as pd\n",
    "import os\n",
    "from selenium.webdriver.common.by import By\n",
    "from selenium.webdriver.common.keys import Keys\n",
    "from selenium.webdriver.support.ui import WebDriverWait\n",
    "from selenium.webdriver.support import expected_conditions as EC\n",
    "import glob\n",
    "import time\n",
    "from selenium.webdriver.chrome.options import Options"
   ]
  },
  {
   "cell_type": "markdown",
   "id": "611c9303-a1a7-440c-9487-c1dd2e82d6e1",
   "metadata": {},
   "source": [
    "# Track Progress"
   ]
  },
  {
   "cell_type": "code",
   "execution_count": 1102,
   "id": "87c0ea82-c52e-4dd4-b38d-f7cdc8f2a3a5",
   "metadata": {
    "tags": []
   },
   "outputs": [
    {
     "data": {
      "text/plain": [
       "'\\n\\nState Track\\n\\nAlabama - AL: shown: 78370, get: 78368\\nAlaska - AK: shown: 30247, get: 30247\\nArizona - AZ: shown: 43853, get: 43850\\nArkansas - AR: shown: 60605, get: 60601\\nCalifornia - CA: shown: 73952, get: 73950\\nColorado - CO: shown: 77877, get: 77875\\nConnecticut - CT: shown: 95036, get: 95034\\nDelaware - DE: shown: 56979, get: 56979\\nFlorida - FL: Not Participating\\nGeorgia - GA: shown: 111089, get: 111045\\nHawaii - HI: shown: 16604, get: 16604\\nIdaho - ID: shown: 68703, get: 68692 \\nIllinois - IL: shown: 95548, get: 95542\\nIndiana - IN: shown: 84548, get: 84536\\nIowa - IA: shown: 84548, get 84536\\nKansas - KS: shown: 67508, get: 67508\\nKentucky - KY: shown: 23865, get: 23865\\nLouisiana - LA: shown: 42752, get: 42752\\nMaine - ME: 62707, 62676\\nMaryland - MD: 111593, 111478\\nMassachusetts - MA: Not Participating\\nMichigan - MI: 40563, 40561\\nMinnesota - MN: 12018, 12018\\nMississippi - MS: 61785, 61776\\nMissouri - MO: 103455, 103448\\nMontana - MT: 73646, 73638\\nNebraska - NE: 70104, 70103\\nNevada - NV: 67416, 67413\\nNew Hampshire - NH: 68834, 68834\\nNew Jersey - NJ: shown: 46766, get: 46765\\nNew Mexico - NM: 60263, 60259\\nNew York - NY: 56200, 56200\\nNorth Carolina - NC: 90834, 90834\\nNorth Dakota - ND\\nOhio - OH\\nOklahoma - OK\\nOregon - OR\\nPennsylvania - PA\\nRhode Island - RI\\nSouth Carolina - SC\\nSouth Dakota - SD\\nTennessee - TN\\nTexas - TX\\nUtah - UT\\nVermont - VT\\nVirginia - VA\\nWashington - WA\\nWest Virginia - WV\\nWisconsin - WI\\nWyoming - WY\\n\\n\\n'"
      ]
     },
     "execution_count": 1102,
     "metadata": {},
     "output_type": "execute_result"
    }
   ],
   "source": [
    "'''\n",
    "\n",
    "State Track\n",
    "\n",
    "Alabama - AL: shown: 78370, get: 78368\n",
    "Alaska - AK: shown: 30247, get: 30247\n",
    "Arizona - AZ: shown: 43853, get: 43850\n",
    "Arkansas - AR: shown: 60605, get: 60601\n",
    "California - CA: shown: 73952, get: 73950\n",
    "Colorado - CO: shown: 77877, get: 77875\n",
    "Connecticut - CT: shown: 95036, get: 95034\n",
    "Delaware - DE: shown: 56979, get: 56979\n",
    "Florida - FL: Not Participating\n",
    "Georgia - GA: shown: 111089, get: 111045\n",
    "Hawaii - HI: shown: 16604, get: 16604\n",
    "Idaho - ID: shown: 68703, get: 68692 \n",
    "Illinois - IL: shown: 95548, get: 95542\n",
    "Indiana - IN: shown: 84548, get: 84536\n",
    "Iowa - IA: shown: 84548, get 84536\n",
    "Kansas - KS: shown: 67508, get: 67508\n",
    "Kentucky - KY: shown: 23865, get: 23865\n",
    "Louisiana - LA: shown: 42752, get: 42752\n",
    "Maine - ME: 62707, 62676\n",
    "Maryland - MD: 111593, 111478\n",
    "Massachusetts - MA: Not Participating\n",
    "Michigan - MI: 40563, 40561\n",
    "Minnesota - MN: 12018, 12018\n",
    "Mississippi - MS: 61785, 61776\n",
    "Missouri - MO: 103455, 103448\n",
    "Montana - MT: 73646, 73638\n",
    "Nebraska - NE: 70104, 70103\n",
    "Nevada - NV: 67416, 67413\n",
    "New Hampshire - NH: 68834, 68834\n",
    "New Jersey - NJ: shown: 46766, get: 46765\n",
    "New Mexico - NM: 60263, 60259\n",
    "New York - NY: 56200, 56200\n",
    "North Carolina - NC: 90834, 90834\n",
    "North Dakota - ND: 59931, 59931\n",
    "Ohio - OH: 70882, 70882\n",
    "Oklahoma - OK: 110004, 109999\n",
    "Oregon - OR: 79944, 79942\n",
    "Pennsylvania - PA: 100629, 100622\n",
    "Rhode Island - RI: 42177, 42174\n",
    "South Carolina - SC: 63910, 63910\n",
    "South Dakota - SD: 62300, 62290\n",
    "Tennessee - TN: 79009, 79002\n",
    "Texas - TX: 73149, 73149\n",
    "Utah - UT: 80767, 80763\n",
    "Vermont - VT: 48573, 48572\n",
    "Virginia - VA: 73253, 73251\n",
    "Washington - WA: 59447, 59447\n",
    "West Virginia - WV: 54866, 54843\n",
    "Wisconsin - WI: 115712, 115707\n",
    "Wyoming - WY: 37015, 37010\n",
    "\n",
    "\n",
    "'''"
   ]
  },
  {
   "cell_type": "markdown",
   "id": "c1df1243-3671-4a1e-a598-8364c618c82a",
   "metadata": {},
   "source": [
    "# Web Crawling"
   ]
  },
  {
   "cell_type": "code",
   "execution_count": 28,
   "id": "243bbb42-00b8-42d6-8d28-693c2609d3ba",
   "metadata": {
    "tags": []
   },
   "outputs": [],
   "source": [
    "s = Service('/Users/Documents/chromedriver-mac-arm64/chromedriver')"
   ]
  },
  {
   "cell_type": "code",
   "execution_count": 29,
   "id": "80e683fb-a2f3-43a8-ab9d-9e1167a277b2",
   "metadata": {
    "tags": []
   },
   "outputs": [],
   "source": [
    "state = 'WY'"
   ]
  },
  {
   "cell_type": "code",
   "execution_count": 30,
   "id": "0e499a0a-4a1c-47a2-9fea-b581bc9cc979",
   "metadata": {
    "tags": []
   },
   "outputs": [],
   "source": [
    "url = 'https://filingaccess.serff.com/sfa/home/'+state\n"
   ]
  },
  {
   "cell_type": "code",
   "execution_count": 31,
   "id": "14a674ce-8bee-45f8-9383-feb931d21e3a",
   "metadata": {
    "tags": []
   },
   "outputs": [],
   "source": [
    "driver = webdriver.Chrome(service=s)\n",
    "\n",
    "# Open a webpage\n",
    "driver.get(url)"
   ]
  },
  {
   "cell_type": "code",
   "execution_count": 1399,
   "id": "44359e2e-ca74-4790-bf24-244e6ed3d3e6",
   "metadata": {},
   "outputs": [],
   "source": [
    "# Browse to the current page"
   ]
  },
  {
   "cell_type": "code",
   "execution_count": 1400,
   "id": "2d7c0e21-0eea-438c-b612-ea2e3d559bb1",
   "metadata": {
    "tags": []
   },
   "outputs": [],
   "source": [
    "def get_index_page_v2(page_number, state):\n",
    "    html_content = driver.page_source\n",
    "    # Parse the HTML\n",
    "    soup = BeautifulSoup(html_content, 'lxml')\n",
    "    paginator_span = soup.find('span', class_='ui-paginator-current')\n",
    "\n",
    "    # Extract the text inside the span\n",
    "    page_info = paginator_span.text.strip()  # This will give you '(1 of 48)'\n",
    "\n",
    "    # To extract just the numbers and format it, you can do some additional processing:\n",
    "    import re\n",
    "\n",
    "    # Using regular expression to extract numbers\n",
    "    numbers = re.findall(r'\\d+', page_info)\n",
    "    if numbers:\n",
    "        current_page, total_pages = numbers\n",
    "        current_page = int(current_page)\n",
    "        total_pages = int(total_pages)\n",
    "        print(f\"Current Page: {current_page}, Total Pages: {total_pages}\")\n",
    "    else:\n",
    "        print(\"No page information found.\")\n",
    "    # Find the table\n",
    "    table = soup.find('table', attrs={'role': 'grid'})\n",
    "\n",
    "    # Extract and print each row of the table\n",
    "    column_texts_list = []\n",
    "    for row in table.find_all('tr'):\n",
    "        columns = row.find_all('td')\n",
    "        # Extract text from each column\n",
    "        column_texts = [col.text.strip() for col in columns]\n",
    "        column_texts_list.append(column_texts)\n",
    "\n",
    "    column_texts_list = [x for x in column_texts_list if len(x)!=0]\n",
    "\n",
    "    result = pd.DataFrame()\n",
    "    \n",
    "    result = pd.DataFrame({'Company Name':[x[0] for x in column_texts_list],\n",
    "                      'NAIC Company Code':[x[1] for x in column_texts_list],\n",
    "                      'Insurance Product Name':[x[2] for x in column_texts_list],\n",
    "                      'Sub Type of Insurance':[x[3] for x in column_texts_list],\n",
    "                      'Filing Type':[x[4] for x in column_texts_list],\n",
    "                      'Filing Status':[x[5] for x in column_texts_list],\n",
    "                      'SERFF Tracking Number':[x[6] for x in column_texts_list]})\n",
    "        # Check if the folder exists\n",
    "    folder_path = '/Users/qiaojiang/Documents/Research/SERFF/'+state\n",
    "    if not os.path.exists(folder_path):\n",
    "        # Create the folder if it does not exist\n",
    "        os.makedirs(folder_path)\n",
    "        print(\"Folder created:\", folder_path)\n",
    "    \n",
    "    result.to_csv(folder_path+'/index_page_'+str(current_page)+'.csv', index = False)\n",
    "    print('Index file saved!')"
   ]
  },
  {
   "cell_type": "code",
   "execution_count": 1401,
   "id": "4db3327e-c010-4a79-92dd-a3724d8762a8",
   "metadata": {
    "tags": []
   },
   "outputs": [],
   "source": [
    "def get_all_index_page_v2(state):\n",
    "    html_content = driver.page_source\n",
    "    # Parse the HTML\n",
    "    soup = BeautifulSoup(html_content, 'lxml')\n",
    "    paginator_span = soup.find('span', class_='ui-paginator-current')\n",
    "\n",
    "    # Extract the text inside the span\n",
    "    page_info = paginator_span.text.strip()  # This will give you '(1 of 48)'\n",
    "\n",
    "    # To extract just the numbers and format it, you can do some additional processing:\n",
    "    import re\n",
    "\n",
    "    # Using regular expression to extract numbers\n",
    "    numbers = re.findall(r'\\d+', page_info)\n",
    "    if numbers:\n",
    "        current_page, total_pages = numbers\n",
    "        current_page = int(current_page)\n",
    "        total_pages = int(total_pages)\n",
    "        print(f\"Current Page: {current_page}, Total Pages: {total_pages}\")\n",
    "    else:\n",
    "        print(\"No page information found.\")\n",
    "    \n",
    "    old_html_content = html_content\n",
    "    \n",
    "    for i in range(total_pages):\n",
    "        page_number = i+1\n",
    "        print(f'This is supposed to be page {page_number}')\n",
    "        get_index_page_v2(page_number, state)\n",
    "        button = WebDriverWait(driver, 2).until(\n",
    "        EC.element_to_be_clickable((By.XPATH, '//*[@id=\"j_idt25:filingTable_paginator_top\"]/a[3]')))\n",
    "        # Click the button\n",
    "        button.click()\n",
    "        time.sleep(3.5)\n",
    "        \n",
    "        new_html_content = driver.page_source\n",
    "        \n",
    "        if old_html_content==new_html_content:\n",
    "            print('Wait for the new page')\n",
    "            time.sleep(3.5)"
   ]
  },
  {
   "cell_type": "code",
   "execution_count": null,
   "id": "509fc8d6-4361-4c2a-8070-97cb51f5ae35",
   "metadata": {
    "scrolled": true,
    "tags": []
   },
   "outputs": [],
   "source": [
    "get_all_index_page_v2(state)"
   ]
  },
  {
   "cell_type": "code",
   "execution_count": 1403,
   "id": "fb44aefb-4dc4-46d1-9004-fe08f8da2131",
   "metadata": {
    "tags": []
   },
   "outputs": [
    {
     "data": {
      "text/plain": [
       "'WY'"
      ]
     },
     "execution_count": 1403,
     "metadata": {},
     "output_type": "execute_result"
    }
   ],
   "source": [
    "state"
   ]
  },
  {
   "cell_type": "code",
   "execution_count": 1405,
   "id": "4f15e4f5-c0c1-46ba-873c-97fb6693a3c6",
   "metadata": {
    "tags": []
   },
   "outputs": [],
   "source": [
    "folder_path = '/Users/Documents/Research/SERFF/'+state\n"
   ]
  },
  {
   "cell_type": "code",
   "execution_count": 1406,
   "id": "33d6701a-49db-4fc0-a2e7-8b08ac947df0",
   "metadata": {
    "tags": []
   },
   "outputs": [],
   "source": [
    "index_files = [x for x in glob.glob(folder_path+'/*.csv') if 'master' not in x]"
   ]
  },
  {
   "cell_type": "code",
   "execution_count": null,
   "id": "6602a547-d692-4010-9db1-4dde8902c1ac",
   "metadata": {
    "scrolled": true,
    "tags": []
   },
   "outputs": [],
   "source": [
    "result_list = []\n",
    "for file in index_files:\n",
    "    result_list.append(pd.read_csv(file))\n",
    "    print(pd.read_csv(file).shape)"
   ]
  },
  {
   "cell_type": "code",
   "execution_count": 1408,
   "id": "eb960b2f-4d33-4c19-8abe-6c0f1d9c2fe1",
   "metadata": {
    "tags": []
   },
   "outputs": [],
   "source": [
    "result_df = pd.concat(result_list)"
   ]
  },
  {
   "cell_type": "code",
   "execution_count": 1409,
   "id": "08e0821c-22df-4035-9c25-2cc4755e290c",
   "metadata": {
    "tags": []
   },
   "outputs": [
    {
     "data": {
      "text/plain": [
       "(37015, 7)"
      ]
     },
     "execution_count": 1409,
     "metadata": {},
     "output_type": "execute_result"
    }
   ],
   "source": [
    "result_df.shape"
   ]
  },
  {
   "cell_type": "code",
   "execution_count": 1410,
   "id": "553a5c38-f30f-4b8a-a6ff-349442a92311",
   "metadata": {
    "tags": []
   },
   "outputs": [],
   "source": [
    "result_df.drop_duplicates(inplace = True)\n"
   ]
  },
  {
   "cell_type": "code",
   "execution_count": 1411,
   "id": "563ed81e-a228-42a4-8f3f-f154dacc5e9a",
   "metadata": {
    "tags": []
   },
   "outputs": [
    {
     "data": {
      "text/plain": [
       "(37010, 7)"
      ]
     },
     "execution_count": 1411,
     "metadata": {},
     "output_type": "execute_result"
    }
   ],
   "source": [
    "result_df.shape # 46765\n"
   ]
  },
  {
   "cell_type": "code",
   "execution_count": 1412,
   "id": "9bb773ff-23d0-460d-aec4-1fcb65773840",
   "metadata": {},
   "outputs": [],
   "source": [
    "result_df.to_csv('/Users/Documents/Research/SERFF/'+state+'/master_index_'+state+'.csv', index = False)"
   ]
  },
  {
   "cell_type": "markdown",
   "id": "95677a99-ab27-4438-8173-6c0d5a8bee93",
   "metadata": {},
   "source": [
    "# Organize the Master Index Files for All States"
   ]
  },
  {
   "cell_type": "code",
   "execution_count": 16,
   "id": "a768aedd-3147-414f-8b8b-04164dbceb67",
   "metadata": {},
   "outputs": [],
   "source": [
    "all_master_index_files = glob.glob('/Users/Documents/Research/SERFF/**/master_index*.csv', recursive = True)"
   ]
  },
  {
   "cell_type": "code",
   "execution_count": 17,
   "id": "54164855-abbb-4a5b-883d-1184148e1447",
   "metadata": {},
   "outputs": [
    {
     "data": {
      "text/plain": [
       "48"
      ]
     },
     "execution_count": 17,
     "metadata": {},
     "output_type": "execute_result"
    }
   ],
   "source": [
    "len(all_master_index_files)"
   ]
  },
  {
   "cell_type": "code",
   "execution_count": 19,
   "id": "b834c33c-3d8a-4e9a-87c8-5fed14a14fa6",
   "metadata": {},
   "outputs": [],
   "source": [
    "all_master_index_list = []\n",
    "for file in all_master_index_files:\n",
    "    temp = pd.read_csv(file)\n",
    "    temp['State'] = file.split('/')[-2]\n",
    "    all_master_index_list.append(temp)\n",
    "all_master_index_df = pd.concat(all_master_index_list)"
   ]
  },
  {
   "cell_type": "code",
   "execution_count": 20,
   "id": "db1e566c-209a-4c63-a073-e2e229aebc90",
   "metadata": {},
   "outputs": [
    {
     "data": {
      "text/plain": [
       "(3245779, 8)"
      ]
     },
     "execution_count": 20,
     "metadata": {},
     "output_type": "execute_result"
    }
   ],
   "source": [
    "all_master_index_df.shape"
   ]
  },
  {
   "cell_type": "code",
   "execution_count": 21,
   "id": "e13753a2-2e4d-4fdd-acc2-bfcc708b5db9",
   "metadata": {
    "tags": []
   },
   "outputs": [
    {
     "data": {
      "text/html": [
       "<div>\n",
       "<style scoped>\n",
       "    .dataframe tbody tr th:only-of-type {\n",
       "        vertical-align: middle;\n",
       "    }\n",
       "\n",
       "    .dataframe tbody tr th {\n",
       "        vertical-align: top;\n",
       "    }\n",
       "\n",
       "    .dataframe thead th {\n",
       "        text-align: right;\n",
       "    }\n",
       "</style>\n",
       "<table border=\"1\" class=\"dataframe\">\n",
       "  <thead>\n",
       "    <tr style=\"text-align: right;\">\n",
       "      <th></th>\n",
       "      <th>Company Name</th>\n",
       "      <th>NAIC Company Code</th>\n",
       "      <th>Insurance Product Name</th>\n",
       "      <th>Sub Type of Insurance</th>\n",
       "      <th>Filing Type</th>\n",
       "      <th>Filing Status</th>\n",
       "      <th>SERFF Tracking Number</th>\n",
       "      <th>State</th>\n",
       "    </tr>\n",
       "  </thead>\n",
       "  <tbody>\n",
       "    <tr>\n",
       "      <th>0</th>\n",
       "      <td>XL Specialty Insurance Company</td>\n",
       "      <td>37885.0</td>\n",
       "      <td>Excess Workers Compensation</td>\n",
       "      <td>16.0003 Excess WC</td>\n",
       "      <td>Form</td>\n",
       "      <td>Closed - Approved</td>\n",
       "      <td>XLAM-129754727</td>\n",
       "      <td>VT</td>\n",
       "    </tr>\n",
       "    <tr>\n",
       "      <th>1</th>\n",
       "      <td>XL Specialty Insurance Company</td>\n",
       "      <td>37885.0</td>\n",
       "      <td>Excess Workers Compensation</td>\n",
       "      <td>16.0003 Excess WC</td>\n",
       "      <td>Form</td>\n",
       "      <td>Closed - Approved</td>\n",
       "      <td>XLAM-132249557</td>\n",
       "      <td>VT</td>\n",
       "    </tr>\n",
       "    <tr>\n",
       "      <th>2</th>\n",
       "      <td>XL Specialty Insurance Company</td>\n",
       "      <td>37885.0</td>\n",
       "      <td>Excess Workers Compensation</td>\n",
       "      <td>16.0003 Excess WC</td>\n",
       "      <td>Form</td>\n",
       "      <td>Closed - Approved</td>\n",
       "      <td>XLAM-129498898</td>\n",
       "      <td>VT</td>\n",
       "    </tr>\n",
       "    <tr>\n",
       "      <th>3</th>\n",
       "      <td>XL Specialty Insurance Company</td>\n",
       "      <td>37885.0</td>\n",
       "      <td>Fetch Pet Health Insurance Program 2023 Revisi...</td>\n",
       "      <td>09.0004 Pet Insurance Plans</td>\n",
       "      <td>Form/Rate/Rule</td>\n",
       "      <td>Closed - Approved</td>\n",
       "      <td>XLAM-133698612</td>\n",
       "      <td>VT</td>\n",
       "    </tr>\n",
       "    <tr>\n",
       "      <th>4</th>\n",
       "      <td>XL Specialty Insurance Company</td>\n",
       "      <td>37885.0</td>\n",
       "      <td>Fetch Pet Health Insurance Program 2023 Revisi...</td>\n",
       "      <td>09.0004 Pet Insurance Plans</td>\n",
       "      <td>Rate/Rule</td>\n",
       "      <td>Closed - Rate/Rule-P&amp;C Use and File</td>\n",
       "      <td>XLAM-133863357</td>\n",
       "      <td>VT</td>\n",
       "    </tr>\n",
       "  </tbody>\n",
       "</table>\n",
       "</div>"
      ],
      "text/plain": [
       "                     Company Name  NAIC Company Code  \\\n",
       "0  XL Specialty Insurance Company            37885.0   \n",
       "1  XL Specialty Insurance Company            37885.0   \n",
       "2  XL Specialty Insurance Company            37885.0   \n",
       "3  XL Specialty Insurance Company            37885.0   \n",
       "4  XL Specialty Insurance Company            37885.0   \n",
       "\n",
       "                              Insurance Product Name  \\\n",
       "0                        Excess Workers Compensation   \n",
       "1                        Excess Workers Compensation   \n",
       "2                        Excess Workers Compensation   \n",
       "3  Fetch Pet Health Insurance Program 2023 Revisi...   \n",
       "4  Fetch Pet Health Insurance Program 2023 Revisi...   \n",
       "\n",
       "         Sub Type of Insurance     Filing Type  \\\n",
       "0            16.0003 Excess WC            Form   \n",
       "1            16.0003 Excess WC            Form   \n",
       "2            16.0003 Excess WC            Form   \n",
       "3  09.0004 Pet Insurance Plans  Form/Rate/Rule   \n",
       "4  09.0004 Pet Insurance Plans       Rate/Rule   \n",
       "\n",
       "                         Filing Status SERFF Tracking Number State  \n",
       "0                    Closed - Approved        XLAM-129754727    VT  \n",
       "1                    Closed - Approved        XLAM-132249557    VT  \n",
       "2                    Closed - Approved        XLAM-129498898    VT  \n",
       "3                    Closed - Approved        XLAM-133698612    VT  \n",
       "4  Closed - Rate/Rule-P&C Use and File        XLAM-133863357    VT  "
      ]
     },
     "execution_count": 21,
     "metadata": {},
     "output_type": "execute_result"
    }
   ],
   "source": [
    "all_master_index_df.head()"
   ]
  },
  {
   "cell_type": "code",
   "execution_count": 22,
   "id": "3492534a-5353-410d-a3e1-8293f9a264e0",
   "metadata": {},
   "outputs": [],
   "source": [
    "all_master_index_df.to_csv('/Users/Documents/Research/SERFF/master_index_all_states.csv', index = False)"
   ]
  }
 ],
 "metadata": {
  "kernelspec": {
   "display_name": "Python 3 (ipykernel)",
   "language": "python",
   "name": "python3"
  },
  "language_info": {
   "codemirror_mode": {
    "name": "ipython",
    "version": 3
   },
   "file_extension": ".py",
   "mimetype": "text/x-python",
   "name": "python",
   "nbconvert_exporter": "python",
   "pygments_lexer": "ipython3",
   "version": "3.11.3"
  }
 },
 "nbformat": 4,
 "nbformat_minor": 5
}
